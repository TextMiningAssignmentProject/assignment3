{
 "metadata": {
  "language_info": {
   "codemirror_mode": {
    "name": "ipython",
    "version": 3
   },
   "file_extension": ".py",
   "mimetype": "text/x-python",
   "name": "python",
   "nbconvert_exporter": "python",
   "pygments_lexer": "ipython3",
   "version": "3.7.9"
  },
  "orig_nbformat": 2,
  "kernelspec": {
   "name": "python379jvsc74a57bd00d07a794f26a6ecb3fc17ff5fa1fdd52db909793f0ce23a738be9e95621eaf14",
   "display_name": "Python 3.7.9 64-bit ('base': conda)"
  }
 },
 "nbformat": 4,
 "nbformat_minor": 2,
 "cells": [
  {
   "cell_type": "code",
   "execution_count": 34,
   "metadata": {},
   "outputs": [],
   "source": [
    "#훈련 데이터\n",
    "docs = [\"텍스트마이닝 너무 어렵다\", \"텍스트마이닝 너무 재밌다\", \"컴퓨터를 공부하는것은 힘들다\", \"배가 고파서 밥을 먹고싶다\", \"저녁을 먹었더니 배가 부르다\", \"밥을 먹은지 시간이 오래 지나서 배가 고프다\", \"자전거를 타는건 즐겁다\", \"게임을 하는건 재미있다\", \"유튜브를 보면 재미있다\"]\n",
    "#훈련 데이터 target\n",
    "target = [0, 0, 0, 1, 1, 1, 2, 2, 2]\n",
    "\n",
    "#테스트 데이터\n",
    "docs_test =['밥먹고싶다 밥 배고파', '컴퓨터 공부는 정말 너무 어렵다', '나는 게임이 하고싶다', '컴퓨터 게임을 하고싶다', '저녁에 밥을 먹고싶다', '텍스트마이닝 너무 지루하다 집에 가고싶다', '혼자 컴퓨터를 분해하는건 재밌다']\n",
    "#테스트 데이터 target\n",
    "target_test = [1,0,2,2,2,0,2]\n",
    "\n",
    "#CMAX훈련 데이터 \n",
    "docs_cmax = [[\"텍스트마이닝 너무 어렵다\", \"텍스트마이닝 너무 재밌다\", \"컴퓨터를 공부하는것은 힘들다\"], [\"배가 고파서 밥을 먹고싶다\", \"저녁을 먹었더니 배가 부르다\", \"밥을 먹은지 시간이 오래 지나서 배가 고프다\"], [\"자전거를 타는건 즐겁다\", \"게임을 하는건 재미있다\", \"유튜브를 보면 재미있다\"]]\n",
    "#CMAX테스트 데이터\n",
    "docs_test_cmax = [['컴퓨터 공부는 정말 너무 어렵다', '텍스트마이닝 너무 지루하다 집에 가고싶다'], ['밥먹고싶다 밥 배고파'], ['컴퓨터 공부는 정말 너무 어렵다', '나는 게임이 하고싶다', '컴퓨터 게임을 하고싶다', '혼자 컴퓨터를 분해하는건 재밌다']]"
   ]
  },
  {
   "cell_type": "code",
   "execution_count": 2,
   "metadata": {},
   "outputs": [],
   "source": [
    "import pandas as pd # 데이터프레임 사용을 위해\n",
    "from math import log # IDF 계산을 위해\n",
    "from konlpy.tag import Okt #명사 추출기\n",
    "okt = Okt()"
   ]
  },
  {
   "cell_type": "code",
   "execution_count": 17,
   "metadata": {},
   "outputs": [
    {
     "output_type": "stream",
     "name": "stdout",
     "text": [
      "훈련 단어 수 =18\n테스트 단어 수 =18\n"
     ]
    }
   ],
   "source": [
    "#명사추출기를 이용한 전처리\n",
    "vocab = []\n",
    "vocab_test = []\n",
    "#데이터의 각 원소에 대하여 명사 추출\n",
    "for i in range(len(docs)):\n",
    "    vocab.append(okt.nouns(docs[i]))\n",
    "for j in range(len(docs_test)):\n",
    "    vocab_test.append(okt.nouns(docs_test[j]))\n",
    "#tf, idf, tf_idf를 계산하려면 1차원 list가 필요하여 리스트 차원 축소\n",
    "vocab = sum(vocab, [])\n",
    "vocab_test = sum(vocab_test, [])\n",
    "print('훈련 단어 수 =' + str(len(vocab)))\n",
    "print('테스트 단어 수 =' + str(len(vocab_test)))\n",
    "\n"
   ]
  },
  {
   "cell_type": "code",
   "execution_count": 18,
   "metadata": {},
   "outputs": [
    {
     "output_type": "stream",
     "name": "stdout",
     "text": [
      "['텍스트', '마', '이닝', '텍스트', '마', '이닝', '컴퓨터', '공부', '배', '밥', '저녁', '배', '밥', '시간', '배', '자전거', '게임', '유튜브']\n['밥', '밥', '컴퓨터', '공부', '정말', '나', '게임', '컴퓨터', '게임', '저녁', '밥', '텍스트', '마', '이닝', '집', '혼자', '컴퓨터', '분해']\n"
     ]
    }
   ],
   "source": [
    "#데이터 보기\n",
    "print(vocab)\n",
    "print(vocab_test)"
   ]
  },
  {
   "cell_type": "code",
   "execution_count": 19,
   "metadata": {},
   "outputs": [
    {
     "output_type": "stream",
     "name": "stdout",
     "text": [
      "총 문서의 수 =9\n"
     ]
    }
   ],
   "source": [
    "#tf, idf값 구하는 함수\n",
    "N = len(docs) # 총 문서의 수\n",
    "print(\"총 문서의 수 =\" + str(N))\n",
    "#tf\n",
    "def tf(t, d):\n",
    "    return d.count(t)\n",
    "#idf\n",
    "def idf(t):\n",
    "    df = 0\n",
    "    for doc in docs:\n",
    "        df += t in doc\n",
    "    return log(N/(df + 1))\n",
    "#tf.idf\n",
    "def tfidf(t, d):\n",
    "    return tf(t,d)* idf(t)"
   ]
  },
  {
   "cell_type": "code",
   "execution_count": 32,
   "metadata": {},
   "outputs": [],
   "source": [
    "#CTF   "
   ]
  },
  {
   "cell_type": "code",
   "execution_count": 21,
   "metadata": {},
   "outputs": [],
   "source": [
    "#IECDF"
   ]
  },
  {
   "cell_type": "code",
   "execution_count": 22,
   "metadata": {},
   "outputs": [],
   "source": [
    "#CDF"
   ]
  },
  {
   "cell_type": "code",
   "execution_count": 23,
   "metadata": {},
   "outputs": [
    {
     "output_type": "execute_result",
     "data": {
      "text/plain": [
       "   텍스트  마  이닝  텍스트  마  이닝  컴퓨터  공부  배  밥  저녁  배  밥  시간  배  자전거  게임  유튜브\n",
       "0    1  1   1    1  1   1    0   0  0  0   0  0  0   0  0    0   0    0\n",
       "1    1  1   1    1  1   1    0   0  0  0   0  0  0   0  0    0   0    0\n",
       "2    0  0   0    0  0   0    1   1  0  0   0  0  0   0  0    0   0    0\n",
       "3    0  0   0    0  0   0    0   0  1  1   0  1  1   0  1    0   0    0\n",
       "4    0  0   0    0  0   0    0   0  1  0   1  1  0   0  1    0   0    0\n",
       "5    0  0   0    0  0   0    0   0  1  1   0  1  1   1  1    0   0    0\n",
       "6    0  0   0    0  0   0    0   0  0  0   0  0  0   0  0    1   0    0\n",
       "7    0  0   0    0  0   0    0   0  0  0   0  0  0   0  0    0   1    0\n",
       "8    0  0   0    0  0   0    0   0  0  0   0  0  0   0  0    0   0    1"
      ],
      "text/html": "<div>\n<style scoped>\n    .dataframe tbody tr th:only-of-type {\n        vertical-align: middle;\n    }\n\n    .dataframe tbody tr th {\n        vertical-align: top;\n    }\n\n    .dataframe thead th {\n        text-align: right;\n    }\n</style>\n<table border=\"1\" class=\"dataframe\">\n  <thead>\n    <tr style=\"text-align: right;\">\n      <th></th>\n      <th>텍스트</th>\n      <th>마</th>\n      <th>이닝</th>\n      <th>텍스트</th>\n      <th>마</th>\n      <th>이닝</th>\n      <th>컴퓨터</th>\n      <th>공부</th>\n      <th>배</th>\n      <th>밥</th>\n      <th>저녁</th>\n      <th>배</th>\n      <th>밥</th>\n      <th>시간</th>\n      <th>배</th>\n      <th>자전거</th>\n      <th>게임</th>\n      <th>유튜브</th>\n    </tr>\n  </thead>\n  <tbody>\n    <tr>\n      <th>0</th>\n      <td>1</td>\n      <td>1</td>\n      <td>1</td>\n      <td>1</td>\n      <td>1</td>\n      <td>1</td>\n      <td>0</td>\n      <td>0</td>\n      <td>0</td>\n      <td>0</td>\n      <td>0</td>\n      <td>0</td>\n      <td>0</td>\n      <td>0</td>\n      <td>0</td>\n      <td>0</td>\n      <td>0</td>\n      <td>0</td>\n    </tr>\n    <tr>\n      <th>1</th>\n      <td>1</td>\n      <td>1</td>\n      <td>1</td>\n      <td>1</td>\n      <td>1</td>\n      <td>1</td>\n      <td>0</td>\n      <td>0</td>\n      <td>0</td>\n      <td>0</td>\n      <td>0</td>\n      <td>0</td>\n      <td>0</td>\n      <td>0</td>\n      <td>0</td>\n      <td>0</td>\n      <td>0</td>\n      <td>0</td>\n    </tr>\n    <tr>\n      <th>2</th>\n      <td>0</td>\n      <td>0</td>\n      <td>0</td>\n      <td>0</td>\n      <td>0</td>\n      <td>0</td>\n      <td>1</td>\n      <td>1</td>\n      <td>0</td>\n      <td>0</td>\n      <td>0</td>\n      <td>0</td>\n      <td>0</td>\n      <td>0</td>\n      <td>0</td>\n      <td>0</td>\n      <td>0</td>\n      <td>0</td>\n    </tr>\n    <tr>\n      <th>3</th>\n      <td>0</td>\n      <td>0</td>\n      <td>0</td>\n      <td>0</td>\n      <td>0</td>\n      <td>0</td>\n      <td>0</td>\n      <td>0</td>\n      <td>1</td>\n      <td>1</td>\n      <td>0</td>\n      <td>1</td>\n      <td>1</td>\n      <td>0</td>\n      <td>1</td>\n      <td>0</td>\n      <td>0</td>\n      <td>0</td>\n    </tr>\n    <tr>\n      <th>4</th>\n      <td>0</td>\n      <td>0</td>\n      <td>0</td>\n      <td>0</td>\n      <td>0</td>\n      <td>0</td>\n      <td>0</td>\n      <td>0</td>\n      <td>1</td>\n      <td>0</td>\n      <td>1</td>\n      <td>1</td>\n      <td>0</td>\n      <td>0</td>\n      <td>1</td>\n      <td>0</td>\n      <td>0</td>\n      <td>0</td>\n    </tr>\n    <tr>\n      <th>5</th>\n      <td>0</td>\n      <td>0</td>\n      <td>0</td>\n      <td>0</td>\n      <td>0</td>\n      <td>0</td>\n      <td>0</td>\n      <td>0</td>\n      <td>1</td>\n      <td>1</td>\n      <td>0</td>\n      <td>1</td>\n      <td>1</td>\n      <td>1</td>\n      <td>1</td>\n      <td>0</td>\n      <td>0</td>\n      <td>0</td>\n    </tr>\n    <tr>\n      <th>6</th>\n      <td>0</td>\n      <td>0</td>\n      <td>0</td>\n      <td>0</td>\n      <td>0</td>\n      <td>0</td>\n      <td>0</td>\n      <td>0</td>\n      <td>0</td>\n      <td>0</td>\n      <td>0</td>\n      <td>0</td>\n      <td>0</td>\n      <td>0</td>\n      <td>0</td>\n      <td>1</td>\n      <td>0</td>\n      <td>0</td>\n    </tr>\n    <tr>\n      <th>7</th>\n      <td>0</td>\n      <td>0</td>\n      <td>0</td>\n      <td>0</td>\n      <td>0</td>\n      <td>0</td>\n      <td>0</td>\n      <td>0</td>\n      <td>0</td>\n      <td>0</td>\n      <td>0</td>\n      <td>0</td>\n      <td>0</td>\n      <td>0</td>\n      <td>0</td>\n      <td>0</td>\n      <td>1</td>\n      <td>0</td>\n    </tr>\n    <tr>\n      <th>8</th>\n      <td>0</td>\n      <td>0</td>\n      <td>0</td>\n      <td>0</td>\n      <td>0</td>\n      <td>0</td>\n      <td>0</td>\n      <td>0</td>\n      <td>0</td>\n      <td>0</td>\n      <td>0</td>\n      <td>0</td>\n      <td>0</td>\n      <td>0</td>\n      <td>0</td>\n      <td>0</td>\n      <td>0</td>\n      <td>1</td>\n    </tr>\n  </tbody>\n</table>\n</div>"
     },
     "metadata": {},
     "execution_count": 23
    }
   ],
   "source": [
    "#훈련 데이터 TF값 구하기(DTM)\n",
    "result = []\n",
    "for i in range(N):\n",
    "    result.append([])\n",
    "    d = docs[i]\n",
    "    for j in range(len(vocab)):\n",
    "        t = vocab[j]        \n",
    "        result[-1].append(tf(t, d))\n",
    "\n",
    "tf_ = pd.DataFrame(result, columns = vocab)\n",
    "tf_"
   ]
  },
  {
   "cell_type": "code",
   "execution_count": 24,
   "metadata": {},
   "outputs": [
    {
     "output_type": "execute_result",
     "data": {
      "text/plain": [
       "          IDF\n",
       "텍스트  1.098612\n",
       "마    1.098612\n",
       "이닝   1.098612\n",
       "텍스트  1.098612\n",
       "마    1.098612\n",
       "이닝   1.098612\n",
       "컴퓨터  1.504077\n",
       "공부   1.504077\n",
       "배    0.810930\n",
       "밥    1.098612\n",
       "저녁   1.504077\n",
       "배    0.810930\n",
       "밥    1.098612\n",
       "시간   1.504077\n",
       "배    0.810930\n",
       "자전거  1.504077\n",
       "게임   1.504077\n",
       "유튜브  1.504077"
      ],
      "text/html": "<div>\n<style scoped>\n    .dataframe tbody tr th:only-of-type {\n        vertical-align: middle;\n    }\n\n    .dataframe tbody tr th {\n        vertical-align: top;\n    }\n\n    .dataframe thead th {\n        text-align: right;\n    }\n</style>\n<table border=\"1\" class=\"dataframe\">\n  <thead>\n    <tr style=\"text-align: right;\">\n      <th></th>\n      <th>IDF</th>\n    </tr>\n  </thead>\n  <tbody>\n    <tr>\n      <th>텍스트</th>\n      <td>1.098612</td>\n    </tr>\n    <tr>\n      <th>마</th>\n      <td>1.098612</td>\n    </tr>\n    <tr>\n      <th>이닝</th>\n      <td>1.098612</td>\n    </tr>\n    <tr>\n      <th>텍스트</th>\n      <td>1.098612</td>\n    </tr>\n    <tr>\n      <th>마</th>\n      <td>1.098612</td>\n    </tr>\n    <tr>\n      <th>이닝</th>\n      <td>1.098612</td>\n    </tr>\n    <tr>\n      <th>컴퓨터</th>\n      <td>1.504077</td>\n    </tr>\n    <tr>\n      <th>공부</th>\n      <td>1.504077</td>\n    </tr>\n    <tr>\n      <th>배</th>\n      <td>0.810930</td>\n    </tr>\n    <tr>\n      <th>밥</th>\n      <td>1.098612</td>\n    </tr>\n    <tr>\n      <th>저녁</th>\n      <td>1.504077</td>\n    </tr>\n    <tr>\n      <th>배</th>\n      <td>0.810930</td>\n    </tr>\n    <tr>\n      <th>밥</th>\n      <td>1.098612</td>\n    </tr>\n    <tr>\n      <th>시간</th>\n      <td>1.504077</td>\n    </tr>\n    <tr>\n      <th>배</th>\n      <td>0.810930</td>\n    </tr>\n    <tr>\n      <th>자전거</th>\n      <td>1.504077</td>\n    </tr>\n    <tr>\n      <th>게임</th>\n      <td>1.504077</td>\n    </tr>\n    <tr>\n      <th>유튜브</th>\n      <td>1.504077</td>\n    </tr>\n  </tbody>\n</table>\n</div>"
     },
     "metadata": {},
     "execution_count": 24
    }
   ],
   "source": [
    "#훈련 데이터 IDF값 구하기\n",
    "result = []\n",
    "for j in range(len(vocab)):\n",
    "    t = vocab[j]\n",
    "    result.append(idf(t))\n",
    "\n",
    "idf_ = pd.DataFrame(result, index = vocab, columns = [\"IDF\"])\n",
    "idf_"
   ]
  },
  {
   "cell_type": "code",
   "execution_count": 25,
   "metadata": {},
   "outputs": [
    {
     "output_type": "execute_result",
     "data": {
      "text/plain": [
       "        텍스트         마        이닝       텍스트         마        이닝       컴퓨터  \\\n",
       "0  1.098612  1.098612  1.098612  1.098612  1.098612  1.098612  0.000000   \n",
       "1  1.098612  1.098612  1.098612  1.098612  1.098612  1.098612  0.000000   \n",
       "2  0.000000  0.000000  0.000000  0.000000  0.000000  0.000000  1.504077   \n",
       "3  0.000000  0.000000  0.000000  0.000000  0.000000  0.000000  0.000000   \n",
       "4  0.000000  0.000000  0.000000  0.000000  0.000000  0.000000  0.000000   \n",
       "5  0.000000  0.000000  0.000000  0.000000  0.000000  0.000000  0.000000   \n",
       "6  0.000000  0.000000  0.000000  0.000000  0.000000  0.000000  0.000000   \n",
       "7  0.000000  0.000000  0.000000  0.000000  0.000000  0.000000  0.000000   \n",
       "8  0.000000  0.000000  0.000000  0.000000  0.000000  0.000000  0.000000   \n",
       "\n",
       "         공부        배         밥        저녁        배         밥        시간  \\\n",
       "0  0.000000  0.00000  0.000000  0.000000  0.00000  0.000000  0.000000   \n",
       "1  0.000000  0.00000  0.000000  0.000000  0.00000  0.000000  0.000000   \n",
       "2  1.504077  0.00000  0.000000  0.000000  0.00000  0.000000  0.000000   \n",
       "3  0.000000  0.81093  1.098612  0.000000  0.81093  1.098612  0.000000   \n",
       "4  0.000000  0.81093  0.000000  1.504077  0.81093  0.000000  0.000000   \n",
       "5  0.000000  0.81093  1.098612  0.000000  0.81093  1.098612  1.504077   \n",
       "6  0.000000  0.00000  0.000000  0.000000  0.00000  0.000000  0.000000   \n",
       "7  0.000000  0.00000  0.000000  0.000000  0.00000  0.000000  0.000000   \n",
       "8  0.000000  0.00000  0.000000  0.000000  0.00000  0.000000  0.000000   \n",
       "\n",
       "         배       자전거        게임       유튜브  \n",
       "0  0.00000  0.000000  0.000000  0.000000  \n",
       "1  0.00000  0.000000  0.000000  0.000000  \n",
       "2  0.00000  0.000000  0.000000  0.000000  \n",
       "3  0.81093  0.000000  0.000000  0.000000  \n",
       "4  0.81093  0.000000  0.000000  0.000000  \n",
       "5  0.81093  0.000000  0.000000  0.000000  \n",
       "6  0.00000  1.504077  0.000000  0.000000  \n",
       "7  0.00000  0.000000  1.504077  0.000000  \n",
       "8  0.00000  0.000000  0.000000  1.504077  "
      ],
      "text/html": "<div>\n<style scoped>\n    .dataframe tbody tr th:only-of-type {\n        vertical-align: middle;\n    }\n\n    .dataframe tbody tr th {\n        vertical-align: top;\n    }\n\n    .dataframe thead th {\n        text-align: right;\n    }\n</style>\n<table border=\"1\" class=\"dataframe\">\n  <thead>\n    <tr style=\"text-align: right;\">\n      <th></th>\n      <th>텍스트</th>\n      <th>마</th>\n      <th>이닝</th>\n      <th>텍스트</th>\n      <th>마</th>\n      <th>이닝</th>\n      <th>컴퓨터</th>\n      <th>공부</th>\n      <th>배</th>\n      <th>밥</th>\n      <th>저녁</th>\n      <th>배</th>\n      <th>밥</th>\n      <th>시간</th>\n      <th>배</th>\n      <th>자전거</th>\n      <th>게임</th>\n      <th>유튜브</th>\n    </tr>\n  </thead>\n  <tbody>\n    <tr>\n      <th>0</th>\n      <td>1.098612</td>\n      <td>1.098612</td>\n      <td>1.098612</td>\n      <td>1.098612</td>\n      <td>1.098612</td>\n      <td>1.098612</td>\n      <td>0.000000</td>\n      <td>0.000000</td>\n      <td>0.00000</td>\n      <td>0.000000</td>\n      <td>0.000000</td>\n      <td>0.00000</td>\n      <td>0.000000</td>\n      <td>0.000000</td>\n      <td>0.00000</td>\n      <td>0.000000</td>\n      <td>0.000000</td>\n      <td>0.000000</td>\n    </tr>\n    <tr>\n      <th>1</th>\n      <td>1.098612</td>\n      <td>1.098612</td>\n      <td>1.098612</td>\n      <td>1.098612</td>\n      <td>1.098612</td>\n      <td>1.098612</td>\n      <td>0.000000</td>\n      <td>0.000000</td>\n      <td>0.00000</td>\n      <td>0.000000</td>\n      <td>0.000000</td>\n      <td>0.00000</td>\n      <td>0.000000</td>\n      <td>0.000000</td>\n      <td>0.00000</td>\n      <td>0.000000</td>\n      <td>0.000000</td>\n      <td>0.000000</td>\n    </tr>\n    <tr>\n      <th>2</th>\n      <td>0.000000</td>\n      <td>0.000000</td>\n      <td>0.000000</td>\n      <td>0.000000</td>\n      <td>0.000000</td>\n      <td>0.000000</td>\n      <td>1.504077</td>\n      <td>1.504077</td>\n      <td>0.00000</td>\n      <td>0.000000</td>\n      <td>0.000000</td>\n      <td>0.00000</td>\n      <td>0.000000</td>\n      <td>0.000000</td>\n      <td>0.00000</td>\n      <td>0.000000</td>\n      <td>0.000000</td>\n      <td>0.000000</td>\n    </tr>\n    <tr>\n      <th>3</th>\n      <td>0.000000</td>\n      <td>0.000000</td>\n      <td>0.000000</td>\n      <td>0.000000</td>\n      <td>0.000000</td>\n      <td>0.000000</td>\n      <td>0.000000</td>\n      <td>0.000000</td>\n      <td>0.81093</td>\n      <td>1.098612</td>\n      <td>0.000000</td>\n      <td>0.81093</td>\n      <td>1.098612</td>\n      <td>0.000000</td>\n      <td>0.81093</td>\n      <td>0.000000</td>\n      <td>0.000000</td>\n      <td>0.000000</td>\n    </tr>\n    <tr>\n      <th>4</th>\n      <td>0.000000</td>\n      <td>0.000000</td>\n      <td>0.000000</td>\n      <td>0.000000</td>\n      <td>0.000000</td>\n      <td>0.000000</td>\n      <td>0.000000</td>\n      <td>0.000000</td>\n      <td>0.81093</td>\n      <td>0.000000</td>\n      <td>1.504077</td>\n      <td>0.81093</td>\n      <td>0.000000</td>\n      <td>0.000000</td>\n      <td>0.81093</td>\n      <td>0.000000</td>\n      <td>0.000000</td>\n      <td>0.000000</td>\n    </tr>\n    <tr>\n      <th>5</th>\n      <td>0.000000</td>\n      <td>0.000000</td>\n      <td>0.000000</td>\n      <td>0.000000</td>\n      <td>0.000000</td>\n      <td>0.000000</td>\n      <td>0.000000</td>\n      <td>0.000000</td>\n      <td>0.81093</td>\n      <td>1.098612</td>\n      <td>0.000000</td>\n      <td>0.81093</td>\n      <td>1.098612</td>\n      <td>1.504077</td>\n      <td>0.81093</td>\n      <td>0.000000</td>\n      <td>0.000000</td>\n      <td>0.000000</td>\n    </tr>\n    <tr>\n      <th>6</th>\n      <td>0.000000</td>\n      <td>0.000000</td>\n      <td>0.000000</td>\n      <td>0.000000</td>\n      <td>0.000000</td>\n      <td>0.000000</td>\n      <td>0.000000</td>\n      <td>0.000000</td>\n      <td>0.00000</td>\n      <td>0.000000</td>\n      <td>0.000000</td>\n      <td>0.00000</td>\n      <td>0.000000</td>\n      <td>0.000000</td>\n      <td>0.00000</td>\n      <td>1.504077</td>\n      <td>0.000000</td>\n      <td>0.000000</td>\n    </tr>\n    <tr>\n      <th>7</th>\n      <td>0.000000</td>\n      <td>0.000000</td>\n      <td>0.000000</td>\n      <td>0.000000</td>\n      <td>0.000000</td>\n      <td>0.000000</td>\n      <td>0.000000</td>\n      <td>0.000000</td>\n      <td>0.00000</td>\n      <td>0.000000</td>\n      <td>0.000000</td>\n      <td>0.00000</td>\n      <td>0.000000</td>\n      <td>0.000000</td>\n      <td>0.00000</td>\n      <td>0.000000</td>\n      <td>1.504077</td>\n      <td>0.000000</td>\n    </tr>\n    <tr>\n      <th>8</th>\n      <td>0.000000</td>\n      <td>0.000000</td>\n      <td>0.000000</td>\n      <td>0.000000</td>\n      <td>0.000000</td>\n      <td>0.000000</td>\n      <td>0.000000</td>\n      <td>0.000000</td>\n      <td>0.00000</td>\n      <td>0.000000</td>\n      <td>0.000000</td>\n      <td>0.00000</td>\n      <td>0.000000</td>\n      <td>0.000000</td>\n      <td>0.00000</td>\n      <td>0.000000</td>\n      <td>0.000000</td>\n      <td>1.504077</td>\n    </tr>\n  </tbody>\n</table>\n</div>"
     },
     "metadata": {},
     "execution_count": 25
    }
   ],
   "source": [
    "#훈련 데이터 TF.IDF구하기\n",
    "result = []\n",
    "for i in range(N):\n",
    "    result.append([])\n",
    "    d = docs[i]\n",
    "    for j in range(len(vocab)):\n",
    "        t = vocab[j]\n",
    "        result[-1].append(tfidf(t,d))\n",
    "tfidf_ = pd.DataFrame(result, columns = vocab)\n",
    "tfidf_"
   ]
  },
  {
   "cell_type": "code",
   "execution_count": 26,
   "metadata": {},
   "outputs": [
    {
     "output_type": "execute_result",
     "data": {
      "text/plain": [
       "          밥         밥       컴퓨터        공부       정말         나        게임  \\\n",
       "0  1.694596  1.694596  0.000000  0.000000  0.00000  0.000000  0.000000   \n",
       "1  0.000000  0.000000  1.252763  1.252763  1.94591  0.000000  0.000000   \n",
       "2  0.000000  0.000000  0.000000  0.000000  0.00000  1.252763  1.252763   \n",
       "3  0.000000  0.000000  1.252763  0.000000  0.00000  0.000000  1.252763   \n",
       "4  0.847298  0.847298  0.000000  0.000000  0.00000  0.000000  0.000000   \n",
       "5  0.000000  0.000000  0.000000  0.000000  0.00000  0.000000  0.000000   \n",
       "6  0.000000  0.000000  1.252763  0.000000  0.00000  0.000000  0.000000   \n",
       "\n",
       "        컴퓨터        게임        저녁         밥       텍스트         마        이닝  \\\n",
       "0  0.000000  0.000000  0.000000  1.694596  0.000000  0.000000  0.000000   \n",
       "1  1.252763  0.000000  0.000000  0.000000  0.000000  0.000000  0.000000   \n",
       "2  0.000000  1.252763  0.000000  0.000000  0.000000  0.000000  0.000000   \n",
       "3  1.252763  1.252763  0.000000  0.000000  0.000000  0.000000  0.000000   \n",
       "4  0.000000  0.000000  1.252763  0.847298  0.000000  0.000000  0.000000   \n",
       "5  0.000000  0.000000  0.000000  0.000000  0.847298  0.847298  0.847298   \n",
       "6  1.252763  0.000000  0.000000  0.000000  0.000000  0.000000  0.000000   \n",
       "\n",
       "         집       혼자       컴퓨터       분해  \n",
       "0  0.00000  0.00000  0.000000  0.00000  \n",
       "1  0.00000  0.00000  1.252763  0.00000  \n",
       "2  0.00000  0.00000  0.000000  0.00000  \n",
       "3  0.00000  0.00000  1.252763  0.00000  \n",
       "4  0.00000  0.00000  0.000000  0.00000  \n",
       "5  1.94591  0.00000  0.000000  0.00000  \n",
       "6  0.00000  1.94591  1.252763  1.94591  "
      ],
      "text/html": "<div>\n<style scoped>\n    .dataframe tbody tr th:only-of-type {\n        vertical-align: middle;\n    }\n\n    .dataframe tbody tr th {\n        vertical-align: top;\n    }\n\n    .dataframe thead th {\n        text-align: right;\n    }\n</style>\n<table border=\"1\" class=\"dataframe\">\n  <thead>\n    <tr style=\"text-align: right;\">\n      <th></th>\n      <th>밥</th>\n      <th>밥</th>\n      <th>컴퓨터</th>\n      <th>공부</th>\n      <th>정말</th>\n      <th>나</th>\n      <th>게임</th>\n      <th>컴퓨터</th>\n      <th>게임</th>\n      <th>저녁</th>\n      <th>밥</th>\n      <th>텍스트</th>\n      <th>마</th>\n      <th>이닝</th>\n      <th>집</th>\n      <th>혼자</th>\n      <th>컴퓨터</th>\n      <th>분해</th>\n    </tr>\n  </thead>\n  <tbody>\n    <tr>\n      <th>0</th>\n      <td>1.694596</td>\n      <td>1.694596</td>\n      <td>0.000000</td>\n      <td>0.000000</td>\n      <td>0.00000</td>\n      <td>0.000000</td>\n      <td>0.000000</td>\n      <td>0.000000</td>\n      <td>0.000000</td>\n      <td>0.000000</td>\n      <td>1.694596</td>\n      <td>0.000000</td>\n      <td>0.000000</td>\n      <td>0.000000</td>\n      <td>0.00000</td>\n      <td>0.00000</td>\n      <td>0.000000</td>\n      <td>0.00000</td>\n    </tr>\n    <tr>\n      <th>1</th>\n      <td>0.000000</td>\n      <td>0.000000</td>\n      <td>1.252763</td>\n      <td>1.252763</td>\n      <td>1.94591</td>\n      <td>0.000000</td>\n      <td>0.000000</td>\n      <td>1.252763</td>\n      <td>0.000000</td>\n      <td>0.000000</td>\n      <td>0.000000</td>\n      <td>0.000000</td>\n      <td>0.000000</td>\n      <td>0.000000</td>\n      <td>0.00000</td>\n      <td>0.00000</td>\n      <td>1.252763</td>\n      <td>0.00000</td>\n    </tr>\n    <tr>\n      <th>2</th>\n      <td>0.000000</td>\n      <td>0.000000</td>\n      <td>0.000000</td>\n      <td>0.000000</td>\n      <td>0.00000</td>\n      <td>1.252763</td>\n      <td>1.252763</td>\n      <td>0.000000</td>\n      <td>1.252763</td>\n      <td>0.000000</td>\n      <td>0.000000</td>\n      <td>0.000000</td>\n      <td>0.000000</td>\n      <td>0.000000</td>\n      <td>0.00000</td>\n      <td>0.00000</td>\n      <td>0.000000</td>\n      <td>0.00000</td>\n    </tr>\n    <tr>\n      <th>3</th>\n      <td>0.000000</td>\n      <td>0.000000</td>\n      <td>1.252763</td>\n      <td>0.000000</td>\n      <td>0.00000</td>\n      <td>0.000000</td>\n      <td>1.252763</td>\n      <td>1.252763</td>\n      <td>1.252763</td>\n      <td>0.000000</td>\n      <td>0.000000</td>\n      <td>0.000000</td>\n      <td>0.000000</td>\n      <td>0.000000</td>\n      <td>0.00000</td>\n      <td>0.00000</td>\n      <td>1.252763</td>\n      <td>0.00000</td>\n    </tr>\n    <tr>\n      <th>4</th>\n      <td>0.847298</td>\n      <td>0.847298</td>\n      <td>0.000000</td>\n      <td>0.000000</td>\n      <td>0.00000</td>\n      <td>0.000000</td>\n      <td>0.000000</td>\n      <td>0.000000</td>\n      <td>0.000000</td>\n      <td>1.252763</td>\n      <td>0.847298</td>\n      <td>0.000000</td>\n      <td>0.000000</td>\n      <td>0.000000</td>\n      <td>0.00000</td>\n      <td>0.00000</td>\n      <td>0.000000</td>\n      <td>0.00000</td>\n    </tr>\n    <tr>\n      <th>5</th>\n      <td>0.000000</td>\n      <td>0.000000</td>\n      <td>0.000000</td>\n      <td>0.000000</td>\n      <td>0.00000</td>\n      <td>0.000000</td>\n      <td>0.000000</td>\n      <td>0.000000</td>\n      <td>0.000000</td>\n      <td>0.000000</td>\n      <td>0.000000</td>\n      <td>0.847298</td>\n      <td>0.847298</td>\n      <td>0.847298</td>\n      <td>1.94591</td>\n      <td>0.00000</td>\n      <td>0.000000</td>\n      <td>0.00000</td>\n    </tr>\n    <tr>\n      <th>6</th>\n      <td>0.000000</td>\n      <td>0.000000</td>\n      <td>1.252763</td>\n      <td>0.000000</td>\n      <td>0.00000</td>\n      <td>0.000000</td>\n      <td>0.000000</td>\n      <td>1.252763</td>\n      <td>0.000000</td>\n      <td>0.000000</td>\n      <td>0.000000</td>\n      <td>0.000000</td>\n      <td>0.000000</td>\n      <td>0.000000</td>\n      <td>0.00000</td>\n      <td>1.94591</td>\n      <td>1.252763</td>\n      <td>1.94591</td>\n    </tr>\n  </tbody>\n</table>\n</div>"
     },
     "metadata": {},
     "execution_count": 26
    }
   ],
   "source": [
    "#테스트셋 TF.IDF구하기\n",
    "N = len(docs_test)\n",
    "result = []\n",
    "for i in range(N):\n",
    "    result.append([])\n",
    "    d = docs_test[i]\n",
    "    for j in range(len(vocab_test)):\n",
    "        t = vocab_test[j]\n",
    "\n",
    "        result[-1].append(tfidf(t,d))\n",
    "\n",
    "tfidf_test = pd.DataFrame(result, columns = vocab_test)\n",
    "tfidf_test"
   ]
  },
  {
   "cell_type": "code",
   "execution_count": 27,
   "metadata": {},
   "outputs": [],
   "source": [
    "from sklearn.metrics import accuracy_score #정확도 계산\n",
    "from sklearn.naive_bayes import GaussianNB #사용할 분류기"
   ]
  },
  {
   "cell_type": "code",
   "execution_count": 28,
   "metadata": {},
   "outputs": [
    {
     "output_type": "execute_result",
     "data": {
      "text/plain": [
       "GaussianNB()"
      ]
     },
     "metadata": {},
     "execution_count": 28
    }
   ],
   "source": [
    "#모델생성\n",
    "mod = GaussianNB()\n",
    "mod.fit(tfidf_, target)"
   ]
  },
  {
   "cell_type": "code",
   "execution_count": 29,
   "metadata": {},
   "outputs": [
    {
     "output_type": "stream",
     "name": "stdout",
     "text": [
      "정확도: 0.2857142857142857\n"
     ]
    }
   ],
   "source": [
    "#예측, 정확도 게산\n",
    "predicted = mod.predict(tfidf_test) #테스트 데이터에 대한 예측 ##tfidf_ 값에 테스트값 \n",
    "print(\"정확도:\", accuracy_score(target_test, predicted)) #예측값과 실제값 비교 ##target에 테스트 정답"
   ]
  },
  {
   "cell_type": "code",
   "execution_count": null,
   "metadata": {},
   "outputs": [],
   "source": []
  }
 ]
}